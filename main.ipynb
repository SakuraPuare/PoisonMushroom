{
 "cells": [
  {
   "cell_type": "code",
   "execution_count": 1,
   "metadata": {},
   "outputs": [],
   "source": [
    "import seaborn as sns\n",
    "# import matplotlib.pyplot as plt\n",
    "# import xgboost as xgb\n",
    "from sklearn.model_selection import *\n",
    "from sklearn.ensemble import *\n",
    "from sklearn.svm import SVC\n",
    "from sklearn.neighbors import KNeighborsClassifier\n",
    "from sklearn.ensemble import RandomForestClassifier\n",
    "from sklearn.tree import DecisionTreeClassifier\n",
    "from sklearn.linear_model import LogisticRegression\n",
    "from sklearn.preprocessing import *\n",
    "from sklearn.metrics import *\n",
    "import numpy as np\n",
    "import pandas as pd\n",
    "import warnings\n",
    "# import optuna\n",
    "# from scipy.stats import randint\n",
    "warnings.filterwarnings('ignore')"
   ]
  },
  {
   "cell_type": "code",
   "execution_count": 2,
   "metadata": {},
   "outputs": [],
   "source": [
    "pd.set_option('display.max_columns', None)"
   ]
  },
  {
   "cell_type": "code",
   "execution_count": 3,
   "metadata": {},
   "outputs": [],
   "source": [
    "df = pd.read_csv('./datasets/mushroom.csv')\n",
    "df2 = pd.read_csv('./datasets/mushrooms.csv')\n",
    "\n",
    "# rename columns\n",
    "df2.rename(columns={'bruises':'ruises'}, inplace=True)\n",
    "\n",
    "# df = pd.concat([df, df2], axis=0)\n",
    "# df = pd.concat([df, df2], axis=0)"
   ]
  },
  {
   "cell_type": "code",
   "execution_count": 4,
   "metadata": {},
   "outputs": [
    {
     "data": {
      "text/html": [
       "<div>\n",
       "<style scoped>\n",
       "    .dataframe tbody tr th:only-of-type {\n",
       "        vertical-align: middle;\n",
       "    }\n",
       "\n",
       "    .dataframe tbody tr th {\n",
       "        vertical-align: top;\n",
       "    }\n",
       "\n",
       "    .dataframe thead th {\n",
       "        text-align: right;\n",
       "    }\n",
       "</style>\n",
       "<table border=\"1\" class=\"dataframe\">\n",
       "  <thead>\n",
       "    <tr style=\"text-align: right;\">\n",
       "      <th></th>\n",
       "      <th>class</th>\n",
       "      <th>cap-shape</th>\n",
       "      <th>cap-surface</th>\n",
       "      <th>cap-color</th>\n",
       "      <th>ruises</th>\n",
       "      <th>odor</th>\n",
       "      <th>gill-attachment</th>\n",
       "      <th>gill-spacing</th>\n",
       "      <th>gill-size</th>\n",
       "      <th>gill-color</th>\n",
       "      <th>stalk-shape</th>\n",
       "      <th>stalk-root</th>\n",
       "      <th>stalk-surface-above-ring</th>\n",
       "      <th>stalk-surface-below-ring</th>\n",
       "      <th>stalk-color-above-ring</th>\n",
       "      <th>stalk-color-below-ring</th>\n",
       "      <th>veil-type</th>\n",
       "      <th>veil-color</th>\n",
       "      <th>ring-number</th>\n",
       "      <th>ring-type</th>\n",
       "      <th>spore-print-color</th>\n",
       "      <th>population</th>\n",
       "      <th>habitat</th>\n",
       "    </tr>\n",
       "  </thead>\n",
       "  <tbody>\n",
       "    <tr>\n",
       "      <th>0</th>\n",
       "      <td>e</td>\n",
       "      <td>x</td>\n",
       "      <td>f</td>\n",
       "      <td>n</td>\n",
       "      <td>f</td>\n",
       "      <td>n</td>\n",
       "      <td>f</td>\n",
       "      <td>w</td>\n",
       "      <td>n</td>\n",
       "      <td>b</td>\n",
       "      <td>t</td>\n",
       "      <td>NaN</td>\n",
       "      <td>s</td>\n",
       "      <td>y</td>\n",
       "      <td>w</td>\n",
       "      <td>p</td>\n",
       "      <td>NaN</td>\n",
       "      <td>n</td>\n",
       "      <td>o</td>\n",
       "      <td>p</td>\n",
       "      <td>w</td>\n",
       "      <td>v</td>\n",
       "      <td>NaN</td>\n",
       "    </tr>\n",
       "    <tr>\n",
       "      <th>1</th>\n",
       "      <td>p</td>\n",
       "      <td>NaN</td>\n",
       "      <td>y</td>\n",
       "      <td>g</td>\n",
       "      <td>t</td>\n",
       "      <td>NaN</td>\n",
       "      <td>f</td>\n",
       "      <td>c</td>\n",
       "      <td>b</td>\n",
       "      <td>k</td>\n",
       "      <td>e</td>\n",
       "      <td>b</td>\n",
       "      <td>f</td>\n",
       "      <td>s</td>\n",
       "      <td>n</td>\n",
       "      <td>c</td>\n",
       "      <td>p</td>\n",
       "      <td>w</td>\n",
       "      <td>n</td>\n",
       "      <td>e</td>\n",
       "      <td>NaN</td>\n",
       "      <td>y</td>\n",
       "      <td>g</td>\n",
       "    </tr>\n",
       "    <tr>\n",
       "      <th>2</th>\n",
       "      <td>e</td>\n",
       "      <td>b</td>\n",
       "      <td>y</td>\n",
       "      <td>n</td>\n",
       "      <td>t</td>\n",
       "      <td>n</td>\n",
       "      <td>f</td>\n",
       "      <td>c</td>\n",
       "      <td>NaN</td>\n",
       "      <td>n</td>\n",
       "      <td>t</td>\n",
       "      <td>r</td>\n",
       "      <td>s</td>\n",
       "      <td>s</td>\n",
       "      <td>p</td>\n",
       "      <td>NaN</td>\n",
       "      <td>p</td>\n",
       "      <td>w</td>\n",
       "      <td>o</td>\n",
       "      <td>p</td>\n",
       "      <td>b</td>\n",
       "      <td>y</td>\n",
       "      <td>w</td>\n",
       "    </tr>\n",
       "    <tr>\n",
       "      <th>3</th>\n",
       "      <td>e</td>\n",
       "      <td>x</td>\n",
       "      <td>g</td>\n",
       "      <td>g</td>\n",
       "      <td>t</td>\n",
       "      <td>n</td>\n",
       "      <td>f</td>\n",
       "      <td>w</td>\n",
       "      <td>b</td>\n",
       "      <td>n</td>\n",
       "      <td>t</td>\n",
       "      <td>b</td>\n",
       "      <td>s</td>\n",
       "      <td>s</td>\n",
       "      <td>p</td>\n",
       "      <td>NaN</td>\n",
       "      <td>p</td>\n",
       "      <td>w</td>\n",
       "      <td>n</td>\n",
       "      <td>n</td>\n",
       "      <td>NaN</td>\n",
       "      <td>NaN</td>\n",
       "      <td>d</td>\n",
       "    </tr>\n",
       "    <tr>\n",
       "      <th>4</th>\n",
       "      <td>e</td>\n",
       "      <td>NaN</td>\n",
       "      <td>f</td>\n",
       "      <td>NaN</td>\n",
       "      <td>t</td>\n",
       "      <td>n</td>\n",
       "      <td>a</td>\n",
       "      <td>w</td>\n",
       "      <td>n</td>\n",
       "      <td>n</td>\n",
       "      <td>e</td>\n",
       "      <td>?</td>\n",
       "      <td>s</td>\n",
       "      <td>k</td>\n",
       "      <td>NaN</td>\n",
       "      <td>w</td>\n",
       "      <td>p</td>\n",
       "      <td>w</td>\n",
       "      <td>NaN</td>\n",
       "      <td>l</td>\n",
       "      <td>w</td>\n",
       "      <td>v</td>\n",
       "      <td>d</td>\n",
       "    </tr>\n",
       "  </tbody>\n",
       "</table>\n",
       "</div>"
      ],
      "text/plain": [
       "  class cap-shape cap-surface cap-color ruises odor gill-attachment  \\\n",
       "0     e         x           f         n      f    n               f   \n",
       "1     p       NaN           y         g      t  NaN               f   \n",
       "2     e         b           y         n      t    n               f   \n",
       "3     e         x           g         g      t    n               f   \n",
       "4     e       NaN           f       NaN      t    n               a   \n",
       "\n",
       "  gill-spacing gill-size gill-color stalk-shape stalk-root  \\\n",
       "0            w         n          b           t        NaN   \n",
       "1            c         b          k           e          b   \n",
       "2            c       NaN          n           t          r   \n",
       "3            w         b          n           t          b   \n",
       "4            w         n          n           e          ?   \n",
       "\n",
       "  stalk-surface-above-ring stalk-surface-below-ring stalk-color-above-ring  \\\n",
       "0                        s                        y                      w   \n",
       "1                        f                        s                      n   \n",
       "2                        s                        s                      p   \n",
       "3                        s                        s                      p   \n",
       "4                        s                        k                    NaN   \n",
       "\n",
       "  stalk-color-below-ring veil-type veil-color ring-number ring-type  \\\n",
       "0                      p       NaN          n           o         p   \n",
       "1                      c         p          w           n         e   \n",
       "2                    NaN         p          w           o         p   \n",
       "3                    NaN         p          w           n         n   \n",
       "4                      w         p          w         NaN         l   \n",
       "\n",
       "  spore-print-color population habitat  \n",
       "0                 w          v     NaN  \n",
       "1               NaN          y       g  \n",
       "2                 b          y       w  \n",
       "3               NaN        NaN       d  \n",
       "4                 w          v       d  "
      ]
     },
     "execution_count": 4,
     "metadata": {},
     "output_type": "execute_result"
    }
   ],
   "source": [
    "df.head()"
   ]
  },
  {
   "cell_type": "code",
   "execution_count": 5,
   "metadata": {},
   "outputs": [],
   "source": [
    "# print(data.describe())\n",
    "\n",
    "# 统计所有行列中 NaN的个数的分布\n",
    "distri = {}\n",
    "for row in df.iterrows():\n",
    "    cnt = 0\n",
    "    for cell in row[1]:\n",
    "        if str(cell) == 'nan':\n",
    "            cnt += 1\n",
    "\n",
    "    if cnt not in distri:\n",
    "        distri[cnt] = 1\n",
    "    distri[cnt] += 1\n",
    "\n",
    "\n",
    "# # 画图\n",
    "# sns.barplot(x=list(distri.keys()), y=list(distri.values()))"
   ]
  },
  {
   "cell_type": "code",
   "execution_count": 6,
   "metadata": {},
   "outputs": [],
   "source": [
    "# 计算缺失值的比例\n",
    "ratio = {}\n",
    "for key in distri.keys():\n",
    "    ratio[key] = distri[key] / df.shape[0]\n",
    "\n",
    "sum_list = []\n",
    "for i in range(0, len(ratio)):\n",
    "    s = 0\n",
    "    # 加上比i小的所有比例\n",
    "    for j in range(0, i):\n",
    "        s += ratio[j]\n",
    "    sum_list.append(s)\n",
    "\n",
    "# 画折线图\n",
    "# sns.lineplot(x=range(0, len(ratio) ), y=pd.Series(sum_list))\n",
    "# print(sum_list)\n",
    "\n",
    "\n",
    "# find the last 97%\n",
    "i = 0\n",
    "while sum_list[i] < 0.95:\n",
    "    i += 1"
   ]
  },
  {
   "cell_type": "markdown",
   "metadata": {},
   "source": [
    "## 丢弃缺失值个数超过i 的行"
   ]
  },
  {
   "cell_type": "code",
   "execution_count": 7,
   "metadata": {},
   "outputs": [],
   "source": [
    "# 丢弃缺失值个数超过i 的行\n",
    "for row in df.iterrows():\n",
    "    cnt = 0\n",
    "    for cell in row[1]:\n",
    "        if str(cell) == 'nan':\n",
    "            cnt += 1\n",
    "    if cnt > i:\n",
    "        df.drop(row[0], inplace=True)"
   ]
  },
  {
   "cell_type": "code",
   "execution_count": 8,
   "metadata": {},
   "outputs": [
    {
     "name": "stdout",
     "output_type": "stream",
     "text": [
      "75310\n",
      "0\n"
     ]
    }
   ],
   "source": [
    "print(df.isna().sum().sum())\n",
    "print(df.duplicated().sum())"
   ]
  },
  {
   "cell_type": "markdown",
   "metadata": {},
   "source": [
    "## 丢弃 "
   ]
  },
  {
   "cell_type": "code",
   "execution_count": 9,
   "metadata": {},
   "outputs": [],
   "source": [
    "df.drop(columns = ['veil-type'], inplace = True)\n",
    "df.drop(columns=['veil-color'], inplace=True)\n",
    "df.drop(columns=['gill-attachment'], inplace=True)\n",
    "df.drop(columns=['cap-color'], inplace=True)\n"
   ]
  },
  {
   "cell_type": "markdown",
   "metadata": {},
   "source": [
    "## 编码插值"
   ]
  },
  {
   "cell_type": "code",
   "execution_count": 10,
   "metadata": {},
   "outputs": [],
   "source": [
    "# # 用众数填充缺失值\n",
    "# df = df.apply(lambda x: x.fillna(df.mode().iloc[0]))\n",
    "\n",
    "# x = df.drop('class', axis=1)\n",
    "# y = df['class']\n",
    "\n",
    "# x = OneHotEncoder().fit_transform(x)\n",
    "# y = LabelEncoder().fit_transform(y)"
   ]
  },
  {
   "cell_type": "code",
   "execution_count": 11,
   "metadata": {},
   "outputs": [],
   "source": [
    "from sklearn.impute import KNNImputer\n",
    "mask = df.isnull()\n",
    "df.dropna()\n",
    "\n",
    "# 填充缺失值\n",
    "df.fillna(df.mode().iloc[0], inplace=True)\n",
    "\n",
    "# class 使用 OneHotEncoder\n",
    "label = OneHotEncoder().fit_transform(df['class'].values.reshape(-1, 1)).toarray()\n",
    "# 其余使用 LabelEncoder 编码\n",
    "\n",
    "for col in df.columns:\n",
    "    df[col] = LabelEncoder().fit_transform(df[col])\n",
    "\n",
    "# 将 class 重新加入\n",
    "df['class'] = label\n",
    "\n",
    "df.where(~mask, np.nan, inplace=True)\n",
    "\n",
    "# fill na with average\n",
    "for col in df.columns:\n",
    "    df[col] = df[col].fillna(df[col].mean())\n",
    "\n",
    "# KNN Imputer\n",
    "df = pd.DataFrame(KNNImputer(\n",
    "    n_neighbors=5).fit_transform(df), columns=df.columns)\n",
    "\n",
    "df.head()\n",
    "\n",
    "x = df.drop('class', axis=1)\n",
    "y = df['class']\n"
   ]
  },
  {
   "cell_type": "markdown",
   "metadata": {},
   "source": [
    "## 正态分析"
   ]
  },
  {
   "cell_type": "code",
   "execution_count": 12,
   "metadata": {},
   "outputs": [],
   "source": [
    "# for feature in df.columns:\n",
    "#     Q1 = df[feature].quantile(0.25)\n",
    "#     Q3 = df[feature].quantile(0.75)\n",
    "#     IQR = Q3 - Q1\n",
    "\n",
    "# def outlier_treatment(colume_name) -> None:\n",
    "#     global df\n",
    "#     Q1, Q3 = df[colume_name].quantile([0.25, 0.75])\n",
    "#     IQR = Q3 - Q1\n",
    "    \n",
    "#     lower_bound = Q1 - 1.5 * IQR\n",
    "#     upper_bound = Q3 + 1.5 * IQR\n",
    "    \n",
    "#     outliers_iqr = df[(df[colume_name] < lower_bound) | (df[colume_name] > upper_bound)]\n",
    "    \n",
    "#     if outliers_iqr.empty:\n",
    "#         print(f'No outliers found in {colume_name}')\n",
    "#     else:\n",
    "#         # drop\n",
    "#         print(f'Outliers found in {colume_name}, dropping {outliers_iqr.shape[0]} rows')\n",
    "#         df.drop(outliers_iqr.index, inplace=True)\n",
    "#         df = df.reset_index(drop = True)\n",
    "\n",
    "# for feature in df.columns:\n",
    "#     outlier_treatment(feature)\n",
    "\n",
    "# # ret = process_map(outlier_treatment, df.columns)"
   ]
  },
  {
   "cell_type": "markdown",
   "metadata": {},
   "source": [
    "## 数据集划分"
   ]
  },
  {
   "cell_type": "code",
   "execution_count": 13,
   "metadata": {},
   "outputs": [
    {
     "name": "stdout",
     "output_type": "stream",
     "text": [
      "(20654, 18) (20654,)\n",
      "(5164, 18) (5164,)\n"
     ]
    }
   ],
   "source": [
    "x_train, x_test, y_train, y_test = train_test_split(x, y, test_size = 0.2, random_state = 42)\n",
    "print(x_train.shape, y_train.shape)\n",
    "print(x_test.shape, y_test.shape)"
   ]
  },
  {
   "cell_type": "markdown",
   "metadata": {},
   "source": [
    "## 模型训练"
   ]
  },
  {
   "cell_type": "code",
   "execution_count": 14,
   "metadata": {},
   "outputs": [],
   "source": [
    "model_result = [\n",
    "    \n",
    "]\n",
    "# {\n",
    "#     'model': 'name',\n",
    "#     'result': 'list'\n",
    "# }\n",
    "\n",
    "# f1 = make_scorer(f1_score, average='weighted')"
   ]
  },
  {
   "cell_type": "markdown",
   "metadata": {},
   "source": [
    "### SVM - Baseline"
   ]
  },
  {
   "cell_type": "code",
   "execution_count": 15,
   "metadata": {},
   "outputs": [],
   "source": [
    "# svm_model = SVC()\n",
    "# svm_model.fit(x_train, y_train)\n",
    "\n",
    "# svm_pred = svm_model.predict(x_test)\n",
    "\n",
    "# model_result.append({\n",
    "#     'model': 'SVM',\n",
    "#     'result': svm_pred\n",
    "# })"
   ]
  },
  {
   "cell_type": "markdown",
   "metadata": {},
   "source": [
    "#### 测试结果"
   ]
  },
  {
   "cell_type": "code",
   "execution_count": 16,
   "metadata": {},
   "outputs": [],
   "source": [
    "# ConfusionMatrixDisplay.from_predictions(y_test, svm_pred)\n",
    "# plt.show()\n",
    "\n",
    "# print(classification_report(y_test, svm_pred))"
   ]
  },
  {
   "cell_type": "markdown",
   "metadata": {},
   "source": [
    "### SVM 贝叶斯优化"
   ]
  },
  {
   "cell_type": "code",
   "execution_count": 17,
   "metadata": {},
   "outputs": [],
   "source": [
    "# def objective(trial):\n",
    "#     C = trial.suggest_loguniform('C', 1e-3, 1e3)\n",
    "#     gamma = trial.suggest_loguniform('gamma', 1e-3, 1e-1)\n",
    "#     kernel = trial.suggest_categorical('kernel', ['rbf'])\n",
    "\n",
    "#     svc = SVC(C=C, gamma=gamma, kernel=kernel)\n",
    "    \n",
    "#     # f1_score\n",
    "#     score = cross_val_score(svc, x_train, y_train, cv=5, scoring=f1).mean()\n",
    "#     return score\n",
    "\n",
    "# study = optuna.create_study(direction='maximize')\n"
   ]
  },
  {
   "cell_type": "code",
   "execution_count": 18,
   "metadata": {},
   "outputs": [],
   "source": [
    "# study.optimize(objective, n_trials=96, n_jobs=-1)"
   ]
  },
  {
   "cell_type": "code",
   "execution_count": 19,
   "metadata": {},
   "outputs": [],
   "source": [
    "# # svm_model = SVC(C=study.best_params['C'], gamma=study.best_params['gamma'], kernel=study.best_params['kernel'])\n",
    "# best = {'C': 0.17284149315658728, 'gamma': 0.0015771661832327244, 'kernel': 'rbf'}\n",
    "# svm_model = SVC(C=best['C'], gamma=best['gamma'], kernel=best['kernel'])\n",
    "# svm_model.fit(x_train, y_train)\n",
    "\n",
    "# svm_pred = svm_model.predict(x_test)\n",
    "\n",
    "# model_result.append({\n",
    "#     'model': 'SVM',\n",
    "#     'result': svm_pred\n",
    "# })"
   ]
  },
  {
   "cell_type": "markdown",
   "metadata": {},
   "source": [
    "#### 测试结果"
   ]
  },
  {
   "cell_type": "code",
   "execution_count": 20,
   "metadata": {},
   "outputs": [],
   "source": [
    "# ConfusionMatrixDisplay.from_predictions(y_test, svm_pred)\n",
    "# plt.show()\n",
    "\n",
    "# print(classification_report(y_test, svm_pred))"
   ]
  },
  {
   "cell_type": "markdown",
   "metadata": {},
   "source": [
    "### GradientBoostingClassifier"
   ]
  },
  {
   "cell_type": "code",
   "execution_count": 21,
   "metadata": {},
   "outputs": [],
   "source": [
    "# gb_model = GradientBoostingClassifier()\n",
    "\n",
    "# parameters = {\n",
    "#     'n_estimators': np.arange(50, 500, 50),\n",
    "#     'max_depth': np.arange(1, 10, 1),\n",
    "#     'learning_rate': np.logspace(-3, 2, 10)\n",
    "# }\n",
    "\n",
    "# grid_search = GridSearchCV(gb_model, parameters, cv=5, n_jobs=-1, verbose=1)\n",
    "# grid_search.fit(x_train, y_train)\n",
    "\n"
   ]
  },
  {
   "cell_type": "code",
   "execution_count": 22,
   "metadata": {},
   "outputs": [],
   "source": [
    "# print(grid_search.best_params_)\n"
   ]
  },
  {
   "cell_type": "code",
   "execution_count": 23,
   "metadata": {},
   "outputs": [],
   "source": [
    "# best_params_ = {\n",
    "#     'learning_rate': np.float64(0.1668100537200059), 'max_depth': np.int64(2), 'n_estimators': np.int64(150)}\n",
    "\n",
    "# gb_model = GradientBoostingClassifier(**best_params_)\n",
    "# gb_model.fit(x_train, y_train)\n",
    " \n",
    "# gb_pred = gb_model.predict(x_test)\n",
    "\n",
    "# model_result.append({\n",
    "#     'model': 'GradientBoosting',\n",
    "#     'result': gb_pred\n",
    "# })"
   ]
  },
  {
   "cell_type": "markdown",
   "metadata": {},
   "source": [
    "#### 测试结果"
   ]
  },
  {
   "cell_type": "code",
   "execution_count": 24,
   "metadata": {},
   "outputs": [],
   "source": [
    "# ConfusionMatrixDisplay.from_predictions(y_test, gb_pred)\n",
    "# plt.show()\n",
    "\n",
    "# print(classification_report(y_test, gb_pred))"
   ]
  },
  {
   "cell_type": "markdown",
   "metadata": {},
   "source": [
    "### AdaBoostClassifier"
   ]
  },
  {
   "cell_type": "code",
   "execution_count": 41,
   "metadata": {},
   "outputs": [],
   "source": [
    "# ada_model = AdaBoostClassifier()\n",
    "\n",
    "# parameters = {\n",
    "#     'n_estimators': np.arange(50, 500, 20),\n",
    "#     'learning_rate': np.logspace(-3, 2, 20),\n",
    "#     'algorithm': ['SAMME']\n",
    "# }\n",
    "\n",
    "# grid_search = GridSearchCV(ada_model, parameters, n_jobs=-1, cv=5, verbose=1)\n",
    "# grid_search.fit(x_train, y_train)\n",
    "\n",
    "# ada_model = AdaBoostClassifier(n_estimators=grid_search.best_params_[\n",
    "#                                'n_estimators'], learning_rate=grid_search.best_params_['learning_rate'])\n",
    "\n",
    "best_params = {'algorithm': 'SAMME',\n",
    "               'learning_rate': 0.774263682681127, 'n_estimators': 150}\n",
    "\n",
    "ada_model = AdaBoostClassifier(\n",
    "    n_estimators=best_params['n_estimators'], learning_rate=best_params['learning_rate'], algorithm=best_params['algorithm'])\n",
    "\n",
    "ada_model.fit(x_train, y_train)\n",
    "\n",
    "ada_pred = ada_model.predict(x_test)\n",
    "\n",
    "model_result.append({\n",
    "    'model': 'AdaBoost',\n",
    "    'result': ada_pred\n",
    "})"
   ]
  },
  {
   "cell_type": "code",
   "execution_count": 26,
   "metadata": {},
   "outputs": [],
   "source": [
    "# ada_model.feature_importances_.shape"
   ]
  },
  {
   "cell_type": "code",
   "execution_count": 27,
   "metadata": {},
   "outputs": [],
   "source": [
    "# # 特征重要性\n",
    "# import seaborn as sns\n",
    "\n",
    "# feature = pd.DataFrame({\n",
    "#     'feature': x.columns,\n",
    "#     'importance': ada_model.feature_importances_\n",
    "# })\n",
    "\n",
    "# feature.sort_values(by='importance', ascending=False, inplace=True)\n",
    "\n",
    "# print(feature)"
   ]
  },
  {
   "cell_type": "code",
   "execution_count": 28,
   "metadata": {},
   "outputs": [],
   "source": [
    "# import joblib\n",
    "# import time\n",
    "# joblib.dump(ada_model, f'./results/ada_model_{time.strftime(\"%Y-%m-%d-%H-%M-%S\")}.pkl')"
   ]
  },
  {
   "cell_type": "markdown",
   "metadata": {},
   "source": [
    "#### 测试结果"
   ]
  },
  {
   "cell_type": "code",
   "execution_count": 42,
   "metadata": {},
   "outputs": [
    {
     "name": "stdout",
     "output_type": "stream",
     "text": [
      "              precision    recall  f1-score   support\n",
      "\n",
      "         0.0       0.73      0.71      0.72      2325\n",
      "         1.0       0.77      0.78      0.78      2873\n",
      "\n",
      "    accuracy                           0.75      5198\n",
      "   macro avg       0.75      0.75      0.75      5198\n",
      "weighted avg       0.75      0.75      0.75      5198\n",
      "\n",
      "0.7759751467034864\n"
     ]
    }
   ],
   "source": [
    "print(classification_report(y_test, ada_pred))\n",
    "print(f1_score(y_test, ada_pred))"
   ]
  },
  {
   "cell_type": "markdown",
   "metadata": {},
   "source": [
    "### LSTM"
   ]
  },
  {
   "cell_type": "code",
   "execution_count": 30,
   "metadata": {},
   "outputs": [],
   "source": [
    "# # 长短期记忆网络 \n",
    "\n",
    "# from keras.models import Sequential\n",
    "# from keras.layers import Dense, LSTM\n",
    "\n",
    "# model = Sequential()\n",
    "\n",
    "# model.add(LSTM(128, input_shape=(x_train.shape[1], 1)))\n",
    "# model.add(Dense(1, activation='sigmoid'))\n",
    "\n",
    "# # metrics f1_score\n",
    "# model.compile(loss='binary_crossentropy', optimizer='adam', metrics=['accuracy'])\n",
    "\n"
   ]
  },
  {
   "cell_type": "code",
   "execution_count": 31,
   "metadata": {},
   "outputs": [],
   "source": [
    "# # with test\n",
    "# model.fit(x_train, y_train, epochs=100, batch_size=256, validation_data=(x_test, y_test))\n",
    "\n",
    "# lstm_pred = model.predict(x_test)\n",
    "\n",
    "# model_result.append({\n",
    "#     'model': 'LSTM',\n",
    "#     'result': lstm_pred\n",
    "# })"
   ]
  },
  {
   "cell_type": "markdown",
   "metadata": {},
   "source": [
    "### RNN"
   ]
  },
  {
   "cell_type": "code",
   "execution_count": 32,
   "metadata": {},
   "outputs": [],
   "source": [
    "# # RNN\n",
    "\n",
    "# from keras.layers import SimpleRNN\n",
    "# from keras.models import *\n",
    "# from keras.layers import *\n",
    "\n",
    "# rnn_model = Sequential()\n",
    "\n",
    "# rnn_model.add(SimpleRNN(128, input_shape=(x_train.shape[1], 1)))\n",
    "# rnn_model.add(Dense(1, activation='sigmoid'))\n",
    "\n",
    "# rnn_model.compile(loss='binary_crossentropy', optimizer='adam', metrics=['accuracy'])"
   ]
  },
  {
   "cell_type": "code",
   "execution_count": 33,
   "metadata": {},
   "outputs": [],
   "source": [
    "# rnn_model.fit(x_train, y_train, epochs=100, batch_size=256, validation_data=(x_test, y_test))\n",
    "\n",
    "# rnn_pred = rnn_model.predict(x_test)\n",
    "\n",
    "# model_result.append({\n",
    "#     'model': 'RNN',\n",
    "#     'result': rnn_pred\n",
    "# })"
   ]
  },
  {
   "cell_type": "markdown",
   "metadata": {},
   "source": [
    "### MLP 多层感知机"
   ]
  },
  {
   "cell_type": "code",
   "execution_count": 34,
   "metadata": {},
   "outputs": [],
   "source": [
    "# # MLP\n",
    "\n",
    "# from keras.layers import *\n",
    "# from keras.models import *\n",
    "# from keras.activations import *\n",
    "# from keras.optimizers import *\n",
    "# from keras.losses import *\n",
    "\n",
    "# mlp_model = Sequential()\n",
    "\n",
    "# mlp_model.add(Dense(4096, input_shape=(x_train.shape[1],)))\n",
    "# mlp_model.add(Activation('relu'))\n",
    "# # mlp_model.add(Dense(2048))\n",
    "# # mlp_model.add(Activation('relu'))\n",
    "# # mlp_model.add(Dense(1024))\n",
    "# # mlp_model.add(Activation('relu'))\n",
    "# mlp_model.add(Dense(512))\n",
    "# mlp_model.add(Activation('relu'))\n",
    "# mlp_model.add(Dense(256))\n",
    "# mlp_model.add(Activation('relu'))\n",
    "# mlp_model.add(Dense(128))\n",
    "# mlp_model.add(Activation('relu'))\n",
    "# mlp_model.add(Dense(64))\n",
    "# mlp_model.add(Activation('relu'))\n",
    "# mlp_model.add(Dense(32))\n",
    "# mlp_model.add(Activation('relu'))\n",
    "# mlp_model.add(Dense(1))\n",
    "# mlp_model.add(Activation('sigmoid'))\n",
    "\n",
    "# mlp_model.compile(loss='binary_crossentropy', optimizer='adam', metrics=['accuracy'])"
   ]
  },
  {
   "cell_type": "code",
   "execution_count": 35,
   "metadata": {},
   "outputs": [],
   "source": [
    "# mlp_model.fit(x_train, y_train, epochs=30, batch_size=32, validation_data=(x_test, y_test))\n",
    "\n",
    "# mlp_pred = mlp_model.predict(x_test)\n",
    "\n",
    "# # "
   ]
  },
  {
   "cell_type": "markdown",
   "metadata": {},
   "source": [
    "### DNN"
   ]
  },
  {
   "cell_type": "code",
   "execution_count": 46,
   "metadata": {},
   "outputs": [],
   "source": [
    "# DNN\n",
    "from keras.layers import *\n",
    "from keras.models import *\n",
    "from keras.activations import *\n",
    "from keras.optimizers import *\n",
    "from keras.losses import *\n",
    "from keras.callbacks import *\n",
    "\n",
    "class F1ScoreCallback(Callback):\n",
    "    def __init__(self, validation_data):\n",
    "        super().__init__()\n",
    "        self.validation_data = validation_data\n",
    "\n",
    "    def on_epoch_end(self, epoch, logs=None):\n",
    "        val_predict = (np.asarray(self.model.predict(self.validation_data[0]))).argmax(axis=1)\n",
    "        val_targ = self.validation_data[1]\n",
    "        _val_f1 = f1_score(val_targ, val_predict, average=\"macro\")\n",
    "        print(f' — val_f1: {_val_f1:.4f}')\n",
    "        logs['val_f1'] = _val_f1\n",
    "\n",
    "dnn_model = Sequential([\n",
    "    Dense(128, activation='relu', input_shape=(x_train.shape[1],)),\n",
    "    Dense(64, activation='relu'),\n",
    "    Dense(32, activation='relu'),\n",
    "    Dense(1, activation='sigmoid')\n",
    "])\n",
    "dnn_model.compile(loss='binary_crossentropy', optimizer='adam', metrics=['accuracy'])\n"
   ]
  },
  {
   "cell_type": "code",
   "execution_count": 37,
   "metadata": {},
   "outputs": [
    {
     "name": "stdout",
     "output_type": "stream",
     "text": [
      "Epoch 1/20\n",
      "606/646 [===========================>..] - ETA: 0s - loss: 0.6592 - accuracy: 0.6087 — val_f1: 0.3106\n",
      "646/646 [==============================] - 0s 527us/step - loss: 0.6577 - accuracy: 0.6110\n",
      "Epoch 2/20\n",
      "602/646 [==========================>...] - ETA: 0s - loss: 0.6028 - accuracy: 0.6788 — val_f1: 0.3106\n",
      "646/646 [==============================] - 0s 490us/step - loss: 0.6021 - accuracy: 0.6798\n",
      "Epoch 3/20\n",
      "609/646 [===========================>..] - ETA: 0s - loss: 0.5690 - accuracy: 0.7075 — val_f1: 0.3106\n",
      "646/646 [==============================] - 0s 481us/step - loss: 0.5695 - accuracy: 0.7071\n",
      "Epoch 4/20\n",
      "621/646 [===========================>..] - ETA: 0s - loss: 0.5634 - accuracy: 0.7145 — val_f1: 0.3106\n",
      "646/646 [==============================] - 0s 477us/step - loss: 0.5633 - accuracy: 0.7148\n",
      "Epoch 5/20\n",
      "611/646 [===========================>..] - ETA: 0s - loss: 0.5562 - accuracy: 0.7151 — val_f1: 0.3106\n",
      "646/646 [==============================] - 0s 489us/step - loss: 0.5567 - accuracy: 0.7151\n",
      "Epoch 6/20\n",
      "591/646 [==========================>...] - ETA: 0s - loss: 0.5531 - accuracy: 0.7151 — val_f1: 0.3106\n",
      "646/646 [==============================] - 0s 511us/step - loss: 0.5535 - accuracy: 0.7153\n",
      "Epoch 7/20\n",
      "644/646 [============================>.] - ETA: 0s - loss: 0.5504 - accuracy: 0.7171 — val_f1: 0.3106\n",
      "646/646 [==============================] - 0s 541us/step - loss: 0.5504 - accuracy: 0.7170\n",
      "Epoch 8/20\n",
      "544/646 [========================>.....] - ETA: 0s - loss: 0.5444 - accuracy: 0.7249 — val_f1: 0.3106\n",
      "646/646 [==============================] - 0s 527us/step - loss: 0.5461 - accuracy: 0.7223\n",
      "Epoch 9/20\n",
      "624/646 [===========================>..] - ETA: 0s - loss: 0.5426 - accuracy: 0.7219 — val_f1: 0.3106\n",
      "646/646 [==============================] - 0s 561us/step - loss: 0.5427 - accuracy: 0.7215\n",
      "Epoch 10/20\n",
      "612/646 [===========================>..] - ETA: 0s - loss: 0.5408 - accuracy: 0.7227 — val_f1: 0.3106\n",
      "646/646 [==============================] - 0s 482us/step - loss: 0.5400 - accuracy: 0.7239\n",
      "Epoch 11/20\n",
      "568/646 [=========================>....] - ETA: 0s - loss: 0.5370 - accuracy: 0.7265 — val_f1: 0.3106\n",
      "646/646 [==============================] - 0s 516us/step - loss: 0.5382 - accuracy: 0.7254\n",
      "Epoch 12/20\n",
      "616/646 [===========================>..] - ETA: 0s - loss: 0.5364 - accuracy: 0.7265 — val_f1: 0.3106\n",
      "646/646 [==============================] - 0s 475us/step - loss: 0.5357 - accuracy: 0.7274\n",
      "Epoch 13/20\n",
      "599/646 [==========================>...] - ETA: 0s - loss: 0.5314 - accuracy: 0.7312 — val_f1: 0.3106\n",
      "646/646 [==============================] - 0s 488us/step - loss: 0.5320 - accuracy: 0.7308\n",
      "Epoch 14/20\n",
      "585/646 [==========================>...] - ETA: 0s - loss: 0.5294 - accuracy: 0.7299 — val_f1: 0.3106\n",
      "646/646 [==============================] - 0s 505us/step - loss: 0.5292 - accuracy: 0.7309\n",
      "Epoch 15/20\n",
      "546/646 [========================>.....] - ETA: 0s - loss: 0.5234 - accuracy: 0.7356 — val_f1: 0.3106\n",
      "646/646 [==============================] - 0s 536us/step - loss: 0.5249 - accuracy: 0.7331\n",
      "Epoch 16/20\n",
      "567/646 [=========================>....] - ETA: 0s - loss: 0.5228 - accuracy: 0.7335 — val_f1: 0.3106\n",
      "646/646 [==============================] - 0s 526us/step - loss: 0.5228 - accuracy: 0.7339\n",
      "Epoch 17/20\n",
      "620/646 [===========================>..] - ETA: 0s - loss: 0.5211 - accuracy: 0.7360 — val_f1: 0.3106\n",
      "646/646 [==============================] - 0s 553us/step - loss: 0.5205 - accuracy: 0.7368\n",
      "Epoch 18/20\n",
      "599/646 [==========================>...] - ETA: 0s - loss: 0.5177 - accuracy: 0.7383 — val_f1: 0.3106\n",
      "646/646 [==============================] - 0s 497us/step - loss: 0.5170 - accuracy: 0.7392\n",
      "Epoch 19/20\n",
      "612/646 [===========================>..] - ETA: 0s - loss: 0.5143 - accuracy: 0.7419 — val_f1: 0.3106\n",
      "646/646 [==============================] - 0s 486us/step - loss: 0.5150 - accuracy: 0.7419\n",
      "Epoch 20/20\n",
      "600/646 [==========================>...] - ETA: 0s - loss: 0.5107 - accuracy: 0.7445 — val_f1: 0.3106\n",
      "646/646 [==============================] - 0s 733us/step - loss: 0.5104 - accuracy: 0.7446\n"
     ]
    }
   ],
   "source": [
    "early_stopping = EarlyStopping(monitor='accuracy', patience=10, restore_best_weights=True)\n",
    "f1_score_callback = F1ScoreCallback(validation_data=(x_test, y_test))\n",
    "\n",
    "history = dnn_model.fit(x_train, y_train, epochs=20, batch_size=32, callbacks=[early_stopping, f1_score_callback])"
   ]
  },
  {
   "cell_type": "code",
   "execution_count": 63,
   "metadata": {},
   "outputs": [
    {
     "name": "stdout",
     "output_type": "stream",
     "text": [
      " — val_f1: 0.3091\n"
     ]
    },
    {
     "data": {
      "application/vnd.jupyter.widget-view+json": {
       "model_id": "fcd73f07c6034c3f96110ffcd97ff9e5",
       "version_major": 2,
       "version_minor": 0
      },
      "text/plain": [
       "  0%|          | 0/100 [00:00<?, ?it/s]"
      ]
     },
     "metadata": {},
     "output_type": "display_data"
    },
    {
     "name": "stdout",
     "output_type": "stream",
     "text": [
      "Best threshold: 0.44, Best f1_score: 0.7722464219041693\n"
     ]
    },
    {
     "data": {
      "image/png": "[encoded data removed]",
      "text/plain": [
       "<Figure size 640x480 with 1 Axes>"
      ]
     },
     "metadata": {},
     "output_type": "display_data"
    }
   ],
   "source": [
    "early_stopping = EarlyStopping(monitor='accuracy', patience=10, restore_best_weights=True)\n",
    "f1_score_callback = F1ScoreCallback(validation_data=(x_test, y_test))\n",
    "\n",
    "history = dnn_model.fit(x_train, y_train, epochs=1, batch_size=32, callbacks=[early_stopping, f1_score_callback],verbose=0)\n",
    "\n",
    "dnn_pred = dnn_model.predict(x_test)\n",
    "\n",
    "def test(thres):\n",
    "    label = np.where(dnn_pred > thres, 1, 0)\n",
    "    \n",
    "    return f1_score(y_test, label)\n",
    "\n",
    "threshold = np.arange(0, 1, 0.01)\n",
    "\n",
    "from tqdm.contrib.concurrent import process_map\n",
    "\n",
    "score = process_map(test, threshold)\n",
    "\n",
    "sns.lineplot(x=threshold, y=score)\n",
    "# plot the best threshold point\n",
    "best = np.argmax(score)\n",
    "sns.scatterplot(x=[threshold[best]], y=[score[best]], color='red')\n",
    "print(f'Best threshold: {threshold[best]}, Best f1_score: {score[best]}')"
   ]
  },
  {
   "cell_type": "code",
   "execution_count": null,
   "metadata": {},
   "outputs": [],
   "source": []
  },
  {
   "cell_type": "markdown",
   "metadata": {},
   "source": [
    "## 模型对比"
   ]
  },
  {
   "cell_type": "code",
   "execution_count": 39,
   "metadata": {},
   "outputs": [
    {
     "name": "stdout",
     "output_type": "stream",
     "text": [
      "       name        f1  accuracy  precision    recall       auc\n",
      "0  AdaBoost  0.773135  0.745546   0.757699  0.789214  0.740761\n"
     ]
    }
   ],
   "source": [
    "name = [i.get('model') for i in model_result]\n",
    "results = [i.get('result') for i in model_result]\n",
    "\n",
    "\n",
    "accuracy = [accuracy_score(y_test, i) for i in results]\n",
    "precision = [precision_score(y_test, i) for i in results]\n",
    "recall = [recall_score(y_test, i) for i in results]\n",
    "f1 = [f1_score(y_test, i) for i in results]\n",
    "auc = [roc_auc_score(y_test, i) for i in results]\n",
    "\n",
    "table = pd.DataFrame({\n",
    "    'name': name,\n",
    "    'f1': f1,\n",
    "    'accuracy': accuracy,\n",
    "    'precision': precision,\n",
    "    'recall': recall,\n",
    "    'auc': auc\n",
    "})\n",
    "\n",
    "# sort by accuracy\n",
    "table = table.sort_values(by='f1', ascending=False)\n",
    "\n",
    "print(table)\n"
   ]
  },
  {
   "cell_type": "code",
   "execution_count": 40,
   "metadata": {},
   "outputs": [
    {
     "name": "stdout",
     "output_type": "stream",
     "text": [
      "(20788, 18) (20788,)\n",
      "(5198, 18) (5198,)\n",
      "                            name        f1  accuracy  precision    recall  \\\n",
      "1  ada_model_2024-07-18-01-53-20  0.781538  0.754136   0.767887  0.795684   \n",
      "2  ada_model_2024-07-18-01-53-49  0.780446  0.752020   0.764176  0.797424   \n",
      "4  ada_model_2024-07-18-02-05-41  0.780446  0.752020   0.764176  0.797424   \n",
      "0  ada_model_2024-07-18-01-53-06  0.776006  0.751443   0.773057  0.778977   \n",
      "3  ada_model_2024-07-18-01-53-54  0.772664  0.749134   0.774013  0.771319   \n",
      "\n",
      "        auc  \n",
      "1  0.749240  \n",
      "2  0.746669  \n",
      "4  0.746669  \n",
      "0  0.748198  \n",
      "3  0.746520  \n"
     ]
    }
   ],
   "source": [
    "import pathlib\n",
    "import joblib\n",
    "\n",
    "df = pd.read_csv('./datasets/mushroom.csv')\n",
    "df2 = pd.read_csv('./datasets/mushrooms.csv')\n",
    "\n",
    "# rename columns\n",
    "df2.rename(columns={'bruises':'ruises'}, inplace=True)\n",
    "\n",
    "# df = pd.concat([df, df2], axis=0)\n",
    "# df = pd.concat([df, df2], axis=0)\n",
    "\n",
    "df.drop(columns = ['veil-type'], inplace = True)\n",
    "df.drop(columns=['veil-color'], inplace=True)\n",
    "df.drop(columns=['gill-attachment'], inplace=True)\n",
    "df.drop(columns=['cap-color'], inplace=True)\n",
    "\n",
    "\n",
    "from sklearn.impute import KNNImputer\n",
    "mask = df.isnull()\n",
    "\n",
    "# 填充缺失值\n",
    "df.fillna(df.mode().iloc[0], inplace=True)\n",
    "\n",
    "# class 使用 OneHotEncoder\n",
    "label = OneHotEncoder().fit_transform(df['class'].values.reshape(-1, 1)).toarray()\n",
    "# 其余使用 LabelEncoder 编码\n",
    "\n",
    "for col in df.columns:\n",
    "    df[col] = LabelEncoder().fit_transform(df[col])\n",
    "\n",
    "# 将 class 重新加入\n",
    "df['class'] = label\n",
    "\n",
    "df.where(~mask, np.nan, inplace=True)\n",
    "\n",
    "# fill na with average\n",
    "for col in df.columns:\n",
    "    df[col] = df[col].fillna(df[col].mean())\n",
    "\n",
    "# KNN Imputer\n",
    "df = pd.DataFrame(KNNImputer(\n",
    "    n_neighbors=5).fit_transform(df), columns=df.columns)\n",
    "\n",
    "\n",
    "df.head()\n",
    "\n",
    "x = df.drop('class', axis=1)\n",
    "y = df['class']\n",
    "\n",
    "x_train, x_test, y_train, y_test = train_test_split(x, y, test_size = 0.2, random_state = 42)\n",
    "print(x_train.shape, y_train.shape)\n",
    "print(x_test.shape, y_test.shape)\n",
    "\n",
    "name = []\n",
    "accuracy = []\n",
    "precision = []\n",
    "recall = []\n",
    "f1 = []\n",
    "auc = []\n",
    "\n",
    "for path in pathlib.Path('./results').glob('*.pkl'):\n",
    "    try:\n",
    "        model = joblib.load(path)\n",
    "        pred = model.predict(x_test)\n",
    "        \n",
    "        name.append(path.stem)\n",
    "        accuracy.append(accuracy_score(y_test, pred))\n",
    "        precision.append(precision_score(y_test, pred))\n",
    "        recall.append(recall_score(y_test, pred))\n",
    "        f1.append(f1_score(y_test, pred))\n",
    "        auc.append(roc_auc_score(y_test, pred))\n",
    "    except Exception as e:\n",
    "        print(path)\n",
    "\n",
    "print(pd.DataFrame({\n",
    "    'name': name,\n",
    "    'f1': f1,\n",
    "    'accuracy': accuracy,\n",
    "    'precision': precision,\n",
    "    'recall': recall,\n",
    "    'auc': auc\n",
    "}).sort_values(by='f1', ascending=False))"
   ]
  }
 ],
 "metadata": {
  "kernelspec": {
   "display_name": "Python 3 (ipykernel)",
   "language": "python",
   "name": "python3"
  },
  "language_info": {
   "codemirror_mode": {
    "name": "ipython",
    "version": 3
   },
   "file_extension": ".py",
   "mimetype": "text/x-python",
   "name": "python",
   "nbconvert_exporter": "python",
   "pygments_lexer": "ipython3",
   "version": "3.7.5"
  }
 },
 "nbformat": 4,
 "nbformat_minor": 4
}
