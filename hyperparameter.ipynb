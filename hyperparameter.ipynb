{
 "cells": [
  {
   "cell_type": "code",
   "execution_count": null,
   "metadata": {},
   "outputs": [],
   "source": [
    "import seaborn as sns\n",
    "import matplotlib.pyplot as plt\n",
    "\n",
    "from sklearn.model_selection import *\n",
    "from sklearn.ensemble import *\n",
    "from sklearn.svm import SVC\n",
    "from sklearn.neighbors import KNeighborsClassifier\n",
    "from sklearn.ensemble import RandomForestClassifier\n",
    "from sklearn.tree import DecisionTreeClassifier\n",
    "from sklearn.linear_model import LogisticRegression\n",
    "from sklearn.preprocessing import *\n",
    "from sklearn.metrics import *\n",
    "import numpy as np\n",
    "import pandas as pd\n",
    "import warnings\n",
    "\n",
    "warnings.filterwarnings('ignore')"
   ]
  },
  {
   "cell_type": "code",
   "execution_count": null,
   "metadata": {},
   "outputs": [],
   "source": [
    "pd.set_option('display.max_columns', None)"
   ]
  },
  {
   "cell_type": "code",
   "execution_count": null,
   "metadata": {},
   "outputs": [],
   "source": [
    "data = pd.read_csv('./datasets/mushroom.csv')"
   ]
  },
  {
   "cell_type": "code",
   "execution_count": null,
   "metadata": {},
   "outputs": [],
   "source": [
    "data.info()"
   ]
  },
  {
   "cell_type": "code",
   "execution_count": null,
   "metadata": {},
   "outputs": [],
   "source": [
    "data.drop(columns = ['veil-type'], inplace = True)"
   ]
  },
  {
   "cell_type": "code",
   "execution_count": null,
   "metadata": {},
   "outputs": [],
   "source": [
    "from tqdm.contrib.concurrent import process_map\n",
    "from sklearn.impute import KNNImputer\n",
    "from sklearn.preprocessing import OneHotEncoder, LabelEncoder\n",
    "mask = data.isnull()\n",
    "# class 使用 OneHotEncoder\n",
    "data['class'] = OneHotEncoder().fit_transform(\n",
    "    data['class'].values.reshape(-1, 1)).toarray()\n",
    "# 其余使用 LabelEncoder 编码\n",
    "for col in data.columns:\n",
    "    if col != 'class':\n",
    "        data[col] = LabelEncoder().fit_transform(data[col])\n",
    "\n",
    "data.where(~mask, np.nan, inplace=True)\n",
    "\n",
    "\n",
    "def test(n):\n",
    "    global data\n",
    "    df = pd.DataFrame(KNNImputer(\n",
    "        n_neighbors=5).fit_transform(data), columns=df.columns)\n",
    "\n",
    "    x = df.drop('class', axis=1)\n",
    "    y = df['class']\n",
    "\n",
    "    x_train, x_test, y_train, y_test = train_test_split(\n",
    "        x, y, test_size=0.2, random_state=42)\n",
    "    ada_model = AdaBoostClassifier()\n",
    "\n",
    "    parameters = {\n",
    "        'n_estimators': np.arange(150, 170, 10),\n",
    "        'learning_rate': np.logspace(-1, 1, 10),\n",
    "        'algorithm': ['SAMME']\n",
    "    }\n",
    "\n",
    "    grid_search = GridSearchCV(\n",
    "        ada_model, parameters, n_jobs=-1, cv=5, verbose=1)\n",
    "    grid_search.fit(x_train, y_train)\n",
    "\n",
    "    ada_model = AdaBoostClassifier(n_estimators=grid_search.best_params_[\n",
    "        'n_estimators'], learning_rate=grid_search.best_params_['learning_rate'])\n",
    "\n",
    "    ada_model.fit(x_train, y_train)\n",
    "\n",
    "    ada_pred = ada_model.predict(x_test)\n",
    "\n",
    "    return f1_score(y_test, ada_pred)\n",
    "\n",
    "\n",
    "scores = process_map(test, range(1, 95*2, 2))\n",
    "\n",
    "# 画图\n",
    "sns.lineplot(x=range(1, 95*2, 2), y=scores)\n"
   ]
  }
 ],
 "metadata": {
  "language_info": {
   "name": "python"
  }
 },
 "nbformat": 4,
 "nbformat_minor": 2
}
